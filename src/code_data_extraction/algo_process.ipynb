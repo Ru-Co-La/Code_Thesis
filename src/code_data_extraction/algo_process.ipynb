{
 "cells": [
  {
   "cell_type": "code",
   "execution_count": null,
   "metadata": {},
   "outputs": [],
   "source": [
    "def algo_process(frame,range_zero_pad,peak_thresh,peak_slice,peak_width,peak_relevance,search_zone,bin2range):\n",
    "    if not isinstance(frame,fr.Frame):\n",
    "        print(\"Argument of algo_process() can only be a Frame instance\")\n",
    "        return\n",
    "    #Fast time Windowing\n",
    "    tmp_frame = frame.chirp\n",
    "    window = 0*2*np.hamming(frame.sam_x_chir)+1\n",
    "    tmp_frame = apply_window(tmp_frame, window,'fast')\n",
    "    #Zero-pad & Fast FFT\n",
    "    fast_fft_data_out = fftn(np.pad(tmp_frame,((0,range_zero_pad-frame.sam_x_chir),(0,0),(0,0))), axes=0)\n",
    "    selected_chirp = np.abs(fast_fft_data_out[:,0,0])\n",
    "    #Peak search\n",
    "    search_zone = round(search_zone/bin2range)\n",
    "    target_position,target_strength = peak_search(selected_chirp,'fast',peak_thresh,peak_width,peak_relevance,search_zone)\n",
    "    target_info = alg_res.algo_result(target_position, target_strength,bin2range, peak_slice)\n",
    "    #Target info collection\n",
    "    for target in range(target_info.num_targets):\n",
    "        spectrum_slice = peak_extraction(selected_chirp,target_position[target],target_info.radius,target_info.bin2range)\n",
    "        target_info.collect_target_info(spectrum_slice)\n",
    "    return fast_fft_data_out,target_info\n",
    "    "
   ]
  },
  {
   "cell_type": "code",
   "execution_count": null,
   "metadata": {},
   "outputs": [],
   "source": [
    "def apply_window(data_in, window, direction):\n",
    "    if direction == 'fast':\n",
    "        return (data_in.T*window).T\n",
    "    if direction == 'slow':\n",
    "        return (data_in*window)"
   ]
  },
  {
   "cell_type": "code",
   "execution_count": null,
   "metadata": {},
   "outputs": [],
   "source": [
    "def peak_search(chirp,direction,thresh,peak_width,peak_relevance,search_zone):\n",
    "    slices = round(len(chirp)/search_zone)\n",
    "    peak_frequency = []\n",
    "    peak_str = []\n",
    "    for spectrum_slice in range(slices):\n",
    "        fbc = np.argmax(chirp[spectrum_slice*search_zone:(spectrum_slice+1)*search_zone]) + spectrum_slice*search_zone\n",
    "        fbl2 = fbc - 2\n",
    "        fbl1 = fbc - 1\n",
    "        fbr1 = fbc + 1\n",
    "        fbr2 = fbc + 2\n",
    "        if fbr2 >= len(chirp):\n",
    "            continue\n",
    "        pvl2 = chirp[fbl2]\n",
    "        pvl1 = chirp[fbl1]\n",
    "        pvc = chirp[fbc]\n",
    "        pvr1 = chirp[fbr1]\n",
    "        pvr2 = chirp[fbr2]\n",
    "        if pvl2+peak_relevance < pvl1 and pvr1 > pvr2+peak_relevance and (pvc > thresh) and pvc >= pvl1 and pvc >= pvr1:\n",
    "                peak_frequency.append((fbl2*pvl2 + fbl1*pvl1+ fbc*pvc + fbr1*pvr1 + fbr2*pvr2)/(pvl2 + pvl1 + pvc +pvr1 + pvr2))\n",
    "                peak_str.append(pvc)\n",
    "    return peak_frequency,peak_str"
   ]
  },
  {
   "cell_type": "code",
   "execution_count": null,
   "metadata": {},
   "outputs": [],
   "source": [
    "def peak_extraction(chirp,idx,radius,b2r):\n",
    "    idx_slice = np.arange(round(idx) - round(radius/b2r),round(idx) + round(radius/b2r))\n",
    "    return idx_slice,chirp[idx_slice]"
   ]
  }
 ],
 "metadata": {
  "kernelspec": {
   "display_name": "Python 3",
   "language": "python",
   "name": "python3"
  },
  "language_info": {
   "codemirror_mode": {
    "name": "ipython",
    "version": 3
   },
   "file_extension": ".py",
   "mimetype": "text/x-python",
   "name": "python",
   "nbconvert_exporter": "python",
   "pygments_lexer": "ipython3",
   "version": "3.8.5"
  }
 },
 "nbformat": 4,
 "nbformat_minor": 4
}
