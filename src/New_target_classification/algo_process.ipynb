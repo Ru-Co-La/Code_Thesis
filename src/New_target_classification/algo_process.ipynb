{
 "cells": [
  {
   "cell_type": "code",
   "execution_count": null,
   "metadata": {},
   "outputs": [],
   "source": [
    "def algo_process(frame,range_zero_pad,chirps_per_frame,doppler_zero_pad,peak_thresh,peak_slice,peak_width,peak_relevance,search_zone,angle_calibration_offset,angle_precision,wavelen_spacing_rat,bin2range):\n",
    "    if not isinstance(frame,fr.Frame):\n",
    "        print(\"Argument of algo_process() can only be a Frame instance\")\n",
    "        return\n",
    "    #Fast time Windowing\n",
    "    tmp_frame = frame.chirp\n",
    "    window = np.hamming(frame.sam_x_chir)\n",
    "    tmp_frame = apply_window(tmp_frame, window,'fast')\n",
    "    \n",
    "    #Zero-pad & Fast FFT & normalization\n",
    "    fast_fft_data_out = fftn(np.pad(tmp_frame,((0,range_zero_pad-frame.sam_x_chir),(0,0),(0,0))), axes=0)/np.sqrt(range_zero_pad)\n",
    "    \n",
    "    #MTI filter\n",
    "    eta = 0.2\n",
    "    F = np.zeros(range_zero_pad, dtype='complex')\n",
    "    K = np.zeros(range_zero_pad, dtype='complex')\n",
    "    X = np.zeros(range_zero_pad, dtype='complex')\n",
    "    avg = np.mean(fast_fft_data_out[:,0,:], axis=1)\n",
    "    fast_fft_data_out[:,0,:] = (fast_fft_data_out[:,0,:].T - avg).T\n",
    "    for chirp in range(chirps_per_frame):\n",
    "        X = fast_fft_data_out[:,0,chirp] - K\n",
    "        F = (1-eta)*F + eta*X\n",
    "        K = (1-eta)*K + eta*F\n",
    "    selected_chirp = np.abs(X)\n",
    "    #Peak search\n",
    "    search_zone = round(search_zone/bin2range)\n",
    "    target_position,target_strength = peak_search(selected_chirp, np.abs(fast_fft_data_out[:,0,0]) ,'fast',peak_thresh,peak_width,peak_relevance,search_zone)\n",
    "    \n",
    "    #Initialize target info\n",
    "    #if len(target_strength) > 0:\n",
    "    #    target_strength[0] = np.mean(np.abs(fast_fft_data_out[round(target_position[0]),0,:]))\n",
    "    target_info = alg_res.algo_result(target_position, target_strength,bin2range, peak_slice, chirps_per_frame, doppler_zero_pad,wavelen_spacing_rat,round(360/angle_precision))\n",
    "    #Target info collection\n",
    "    for target in range(target_info.num_targets):\n",
    "        range_spectrum_slice = peak_extraction(np.abs(fast_fft_data_out[:,0,:]),target_position[target],target_info.radius,target_info.bin2range)\n",
    "        target_info.collect_target_range_spectrum(range_spectrum_slice)\n",
    "        doppler_mark = apply_window((fast_fft_data_out[round(target_position[target]),0,:]),np.hamming(frame.chir_x_fr),'slow')\n",
    "        target_info.collect_target_doppler_mark(doppler_mark)\n",
    "    return fast_fft_data_out,target_info, selected_chirp\n",
    "    "
   ]
  },
  {
   "cell_type": "code",
   "execution_count": null,
   "metadata": {},
   "outputs": [],
   "source": [
    "def apply_window(data_in, window, direction):\n",
    "    if direction == 'fast':\n",
    "        return (data_in.T*window).T\n",
    "    if direction == 'slow':\n",
    "        return (data_in*window)"
   ]
  },
  {
   "cell_type": "code",
   "execution_count": null,
   "metadata": {},
   "outputs": [],
   "source": [
    "def peak_search(chirp,non_filtered_chirp,direction,thresh,peak_width,peak_relevance,search_zone):\n",
    "    slices = round(len(chirp)/search_zone)\n",
    "    peak_frequency = []\n",
    "    peak_str = []\n",
    "    for spectrum_slice in range(slices):\n",
    "        fbc = np.argmax(chirp[spectrum_slice*search_zone:(spectrum_slice+1)*search_zone]) + spectrum_slice*search_zone\n",
    "        fbl2 = fbc - 2\n",
    "        fbl1 = fbc - 1\n",
    "        fbr1 = fbc + 1\n",
    "        fbr2 = fbc + 2\n",
    "        if fbr2 >= len(chirp):\n",
    "            continue\n",
    "        pvl2 = chirp[fbl2]\n",
    "        pvl1 = chirp[fbl1]\n",
    "        pvc = chirp[fbc]\n",
    "        pvr1 = chirp[fbr1]\n",
    "        pvr2 = chirp[fbr2]\n",
    "        if pvl2+peak_relevance < pvl1 and pvr1 > pvr2+peak_relevance and (pvc > thresh) and pvc >= pvl1 and pvc >= pvr1:\n",
    "                peak_frequency.append((fbl2*non_filtered_chirp[fbl2] + fbl1*non_filtered_chirp[fbl1]+ fbc*non_filtered_chirp[fbc] + fbr1*non_filtered_chirp[fbr1] + fbr2*non_filtered_chirp[fbr2])/(non_filtered_chirp[fbl2] + non_filtered_chirp[fbl1] + non_filtered_chirp[fbc] + non_filtered_chirp[fbr1] + non_filtered_chirp[fbr2]))\n",
    "                peak_str.append(non_filtered_chirp[fbc])\n",
    "    return peak_frequency,peak_str"
   ]
  },
  {
   "cell_type": "code",
   "execution_count": 1,
   "metadata": {},
   "outputs": [],
   "source": [
    "def peak_extraction(chirp,idx,radius,b2r):\n",
    "    idx_slice = np.arange(round(idx) - round(radius/b2r),round(idx) + round(radius/b2r))\n",
    "    \n",
    "    #Prevent having negative idx or idx above length fft\n",
    "    if((round(idx) - round(radius/b2r) < 0) or (round(idx) + round(radius/b2r) >= len(chirp))):\n",
    "        #print(\"Warning: in peak_extraction idx_slice is out of bounds! Target is too close or too far.\")\n",
    "        #print(round(idx) - round(radius/b2r))\n",
    "        #print(round(idx) + round(radius/b2r))\n",
    "        for i in range(len(idx_slice)):\n",
    "        #    if(idx_slice[i] < 0):\n",
    "        #        idx_slice[i] = 0\n",
    "            if(idx_slice[i] >= len(idx_slice)):\n",
    "                idx_slice[i] = len(idx_slice) - 1\n",
    "            \n",
    "    return idx_slice,chirp[idx_slice,:]"
   ]
  },
  {
   "cell_type": "code",
   "execution_count": null,
   "metadata": {},
   "outputs": [],
   "source": [
    "def phase_difference_estimation(phase_array,beam_forming_matrix,offset,precision):\n",
    "    phase_array[1] *= np.exp(1j*offset/180*np.pi)\n",
    "    result = np.matmul(beam_forming_matrix,phase_array)\n",
    "    return np.abs(result)\n",
    "                   "
   ]
  },
  {
   "cell_type": "code",
   "execution_count": null,
   "metadata": {},
   "outputs": [],
   "source": []
  }
 ],
 "metadata": {
  "kernelspec": {
   "display_name": "Python 3",
   "language": "python",
   "name": "python3"
  },
  "language_info": {
   "codemirror_mode": {
    "name": "ipython",
    "version": 3
   },
   "file_extension": ".py",
   "mimetype": "text/x-python",
   "name": "python",
   "nbconvert_exporter": "python",
   "pygments_lexer": "ipython3",
   "version": "3.8.5"
  }
 },
 "nbformat": 4,
 "nbformat_minor": 4
}
