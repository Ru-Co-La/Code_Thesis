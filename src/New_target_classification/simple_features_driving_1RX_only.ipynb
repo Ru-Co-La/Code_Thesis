{
 "cells": [
  {
   "cell_type": "code",
   "execution_count": 1,
   "metadata": {},
   "outputs": [],
   "source": [
    "import numpy as np\n",
    "import pandas as pd\n",
    "import matplotlib.pyplot as plt\n",
    "import frame as fr\n",
    "import algo_result as alg_res\n",
    "import os\n",
    "from scipy.fft import fft, fftn, fftfreq, fftshift\n",
    "import xgboost as xgb\n",
    "from xgboost import plot_importance, plot_tree\n",
    "import graphviz\n",
    "\n",
    "%run algo_process.ipynb\n"
   ]
  },
  {
   "cell_type": "code",
   "execution_count": 2,
   "metadata": {},
   "outputs": [],
   "source": [
    "def peak_search_dopp(spectrum,Lo_thresh,Hi_thresh,peak_relevance):\n",
    "    counter = 0\n",
    "    peak_strength = np.max(spectrum)\n",
    "    peak_bin = np.argmax(spectrum)\n",
    "    doppler_details = {\"peak_count\":0,\"total_harmonic_relative_strength\":0,\"peak_bin\":[],\"harmonic_relative_strength\":[],\"max_peak_strength\":peak_strength}\n",
    "    harmonic_strength = 0\n",
    "    fbc = 2\n",
    "    fbl2 = fbc - 2\n",
    "    fbl1 = fbc - 1\n",
    "    fbr1 = fbc + 1\n",
    "    fbr2 = fbc + 2\n",
    "    for idx in range(len(spectrum)):\n",
    "        if fbr2 >= len(spectrum):\n",
    "            continue\n",
    "        pvl2 = spectrum[fbl2]\n",
    "        pvl1 = spectrum[fbl1]\n",
    "        pvc = spectrum[fbc]\n",
    "        pvr1 = spectrum[fbr1]\n",
    "        pvr2 = spectrum[fbr2]\n",
    "        if pvl2+peak_relevance < pvl1 and pvr1 > pvr2+peak_relevance and pvc > Lo_thresh and pvc <= Hi_thresh and pvc >= pvl1 and pvc >= pvr1 and fbc != peak_bin:\n",
    "            harmonic_strength += pvc[0]\n",
    "            counter += 1\n",
    "            doppler_details[\"peak_bin\"].append(fbc)\n",
    "            doppler_details[\"harmonic_relative_strength\"].append(pvc[0]/peak_strength)\n",
    "        fbc += 1\n",
    "        fbl2 = fbc - 2\n",
    "        fbl1 = fbc - 1\n",
    "        fbr1 = fbc + 1\n",
    "        fbr2 = fbc + 2\n",
    "    doppler_details[\"peak_count\"] = counter\n",
    "    doppler_details[\"total_harmonic_relative_strength\"] = harmonic_strength/peak_strength\n",
    "    return doppler_details"
   ]
  },
  {
   "cell_type": "code",
   "execution_count": 3,
   "metadata": {},
   "outputs": [],
   "source": [
    "def doppler_details_extraction(spectrum,T_Lo_thr,T_Mi_thr,T_Hi_thr):\n",
    "    doppler_details = peak_search_dopp(spectrum,0,np.Inf,0)\n",
    "    Hi_details={\"total_harmonic_relative_strength\":0,\"peak_count\":0,\"peak_bin\":[],\"harmonic_relative_strength\":[]}\n",
    "    Mi_details={\"total_harmonic_relative_strength\":0,\"peak_count\":0,\"peak_bin\":[],\"harmonic_relative_strength\":[]}\n",
    "    Lo_details={\"total_harmonic_relative_strength\":0,\"peak_count\":0,\"peak_bin\":[],\"harmonic_relative_strength\":[]}\n",
    "    for peak_idx in range(doppler_details[\"peak_count\"]):\n",
    "        if doppler_details[\"harmonic_relative_strength\"][peak_idx] > 1/T_Lo_thr and doppler_details[\"harmonic_relative_strength\"][peak_idx] <= 1/T_Mi_thr:\n",
    "            Lo_details[\"peak_count\"] += 1\n",
    "            Lo_details[\"peak_bin\"].append(doppler_details[\"peak_bin\"][peak_idx])\n",
    "            Lo_details[\"harmonic_relative_strength\"].append(doppler_details[\"harmonic_relative_strength\"][peak_idx])\n",
    "        elif doppler_details[\"harmonic_relative_strength\"][peak_idx] > 1/T_Mi_thr and doppler_details[\"harmonic_relative_strength\"][peak_idx] <= 1/T_Hi_thr:\n",
    "            Mi_details[\"peak_count\"] += 1\n",
    "            Mi_details[\"peak_bin\"].append(doppler_details[\"peak_bin\"][peak_idx])\n",
    "            Mi_details[\"harmonic_relative_strength\"].append(doppler_details[\"harmonic_relative_strength\"][peak_idx])\n",
    "        elif doppler_details[\"harmonic_relative_strength\"][peak_idx] > 1/T_Hi_thr:\n",
    "            Hi_details[\"peak_count\"] += 1\n",
    "            Hi_details[\"peak_bin\"].append(doppler_details[\"peak_bin\"][peak_idx])\n",
    "            Hi_details[\"harmonic_relative_strength\"].append(doppler_details[\"harmonic_relative_strength\"][peak_idx])\n",
    "    Lo_details[\"total_harmonic_relative_strength\"] = sum(Lo_details[\"harmonic_relative_strength\"])\n",
    "    Mi_details[\"total_harmonic_relative_strength\"] = sum(Mi_details[\"harmonic_relative_strength\"])\n",
    "    Hi_details[\"total_harmonic_relative_strength\"] = sum(Hi_details[\"harmonic_relative_strength\"])\n",
    "    return Hi_details,Mi_details,Lo_details,doppler_details"
   ]
  },
  {
   "cell_type": "code",
   "execution_count": 4,
   "metadata": {},
   "outputs": [],
   "source": [
    "SAMPLES_PER_CHIRP = 64\n",
    "CHIRPS_PER_FRAME = 128\n",
    "T = 300e-6\n",
    "SPEED_OF_LIGHT = 3e8\n",
    "START_FREQUENCY = 24.025e9\n",
    "B = 200e6\n",
    "PULSE_REPETITION_INTERVAL = 500e-6\n",
    "SAMPLE_PERIOD = T/SAMPLES_PER_CHIRP\n",
    "SAMPLE_FREQUENCY = 1/SAMPLE_PERIOD\n",
    "LAMBDA = SPEED_OF_LIGHT/START_FREQUENCY\n",
    "RANGE_PAD = 256\n",
    "DOPPLER_PAD = 512\n",
    "ANTENNA_SPACING = 6.22e-3\n",
    "\n",
    "PEAK_THRESHOLD = 0.005 # normalized FFT absolute minimum strength \n",
    "PEAK_SLICE = 2 #meters around target\n",
    "PEAK_WIDTH = 1 #integer\n",
    "PEAK_RELEVANCE = 0 #minimum distance between pvl1,pvr1 and pvc\n",
    "SEARCH_ZONE = 25 #split spectrum in slices of SEARCH_ZONE meters to find a single peak\n",
    "MIN_DIST = 5 #minimum distance for detection\n",
    "\n",
    "ANGLE_CALIBRATION = -150\n",
    "ANGLE_PRECISION = 1\n",
    "\n",
    "ANTENNA_NUMBER = 1\n",
    "\n",
    "FRAME_REP_INTERVAL = 0.2"
   ]
  },
  {
   "cell_type": "code",
   "execution_count": null,
   "metadata": {},
   "outputs": [],
   "source": []
  },
  {
   "cell_type": "code",
   "execution_count": 5,
   "metadata": {},
   "outputs": [
    {
     "name": "stdout",
     "output_type": "stream",
     "text": [
      "   Feature  Importance                    Name\n",
      "0       f0        1704                location\n",
      "1       f3        1429                strength\n",
      "2       f8        1016             correlation\n",
      "3      f14         976  Mi_skewness_difference\n",
      "4       f9         962    max_to_mean_distance\n",
      "5       f1         898                var_dopp\n",
      "6      f16         884      Side_lobe_strength\n",
      "7       f6         878           std_deviation\n",
      "8      f15         811  Hi_skewness_difference\n",
      "9      f11         782                  SPC_Mi\n",
      "10      f5         753                  SPC_Lo\n",
      "11     f18         718         SPC_Mi_variance\n",
      "12      f4         691                 max_dev\n",
      "13     f17         602  Side_lobe_max_strength\n",
      "14     f10         483           Lo_peak_count\n",
      "15      f7         470  harmonic_power_content\n",
      "16      f2         449                  SPC_Hi\n",
      "17     f12         432            Hi_deviation\n",
      "18     f13         354           Mi_peak_count\n"
     ]
    },
    {
     "data": {
      "image/png": "[encoded data removed]",
      "text/plain": [
       "<Figure size 720x720 with 1 Axes>"
      ]
     },
     "metadata": {
      "needs_background": "light"
     },
     "output_type": "display_data"
    }
   ],
   "source": [
    "classifier = xgb.XGBClassifier()\n",
    "classifier.load_model('../statistics_data_processing/code/Trained_stuff/boresight_diagonal_azimuth_model.model')\n",
    "\n",
    "asd = pd.read_csv(\"../statistics_data_processing/code/Trained_stuff/Boresight_Diagonal_azimuth.csv\",delimiter='\\t')\n",
    "d = asd.to_dict(\"split\")\n",
    "\n",
    "###Get dictionary with performance for each number of feature\n",
    "my_dictionary_list = []\n",
    "for row_idx in range(len(d['data'])):\n",
    "    for col_idx in range(len(d['columns'])):\n",
    "        if d['columns'][col_idx] == 'support':\n",
    "            split_bools = d['data'][row_idx][col_idx] = d['data'][row_idx][col_idx].replace(\"\\n\", \"\").replace(\"  \",\" \").replace(\"[\",\"\").replace(\"]\",\"\").split(\" \")\n",
    "            d['data'][row_idx][col_idx] = []\n",
    "            for elem in split_bools:\n",
    "                if elem == 'True':\n",
    "                    d['data'][row_idx][col_idx].append(True)\n",
    "                elif elem == 'False':\n",
    "                    d['data'][row_idx][col_idx].append(False)\n",
    "    best_params= dict(zip(d[\"columns\"],d[\"data\"][row_idx]))\n",
    "    best_params[d['columns'][col_idx]] = d['data']\n",
    "    my_dictionary_list.append(best_params)\n",
    "###Get best performance    \n",
    "max_score = 0\n",
    "support = []\n",
    "feature_names = []\n",
    "for elem in my_dictionary_list:\n",
    "    if elem['score'] > max_score:\n",
    "        max_score = elem['score']\n",
    "        support = elem['support']\n",
    "        feature_names = elem['features'].replace(\"'\",\"\").replace('[','').replace(']','').replace('\\n','').split(\" \")\n",
    "\n",
    "###Get feature importance\n",
    "importance_type='weight'\n",
    "fscores = classifier.get_booster().get_score(importance_type=importance_type)\n",
    "feat_importances = []\n",
    "for ft, score in fscores.items():\n",
    "    feat_importances.append({'Feature': ft, 'Importance': score, 'Name': feature_names[int(ft[1:])]})\n",
    "feat_importances = pd.DataFrame(feat_importances)\n",
    "feat_importances = feat_importances.sort_values(\n",
    "    by='Importance', ascending=False).reset_index(drop=True)\n",
    "print(feat_importances)\n",
    "###Sort labels with feature importance\n",
    "feat_labels = []\n",
    "for elem in feat_importances.values:\n",
    "    feat_labels.append(elem[2])\n",
    "feat_labels = np.flip(feat_labels)\n",
    "fig,ax = plt.subplots(1,1,figsize=(10,10))\n",
    "\n",
    "###Plot importance\n",
    "importance_plot=plot_importance(classifier,ax=ax,importance_type=importance_type,show_values=False)\n",
    "importance_plot.set_title(f\"Feature importance (by {importance_type})\")\n",
    "importance_plot.set_yticklabels(feat_labels)\n",
    "normalization_factors = pd.read_csv(\"../statistics_data_processing/code/Trained_stuff/boresight_diagonal_azimuth_norm_factors.csv\",delimiter='\\t').values\n",
    "norm_mean = normalization_factors[0]\n",
    "norm_scale = normalization_factors[1]"
   ]
  },
  {
   "cell_type": "code",
   "execution_count": 6,
   "metadata": {},
   "outputs": [],
   "source": [
    "#fig,ax = plt.subplots(1,1,figsize=(10,20))\n",
    "#plot_tree(classifier,ax=ax)\n",
    "#plt.savefig('Tree',format='png')"
   ]
  },
  {
   "cell_type": "code",
   "execution_count": 35,
   "metadata": {},
   "outputs": [
    {
     "name": "stdout",
     "output_type": "stream",
     "text": [
      "../../data/Tire_data/No_PCB_backwards_1.txt\n",
      "Doppler x total_frames: (512, 200)\n"
     ]
    }
   ],
   "source": [
    "directory = '../../data/'\n",
    "\n",
    "folders = []\n",
    "#folders.append('Dataset_2')\n",
    "folders.append('Tire_data')\n",
    "\n",
    "\n",
    "for folder in folders:\n",
    "    ###Calibration Data\n",
    "    calibration_data = pd.read_csv(directory + folder+ '/environment_1.txt', sep='\\t', header=None)\n",
    "    calibration = calibration_data.select_dtypes(include = ['float']).values\n",
    "    CALIBRATION_FRAME_NUMBER = len(calibration)//(SAMPLES_PER_CHIRP*CHIRPS_PER_FRAME)\n",
    "    calibration_frames = []\n",
    "    ###Create dataset\n",
    "    for frame in range(CALIBRATION_FRAME_NUMBER):\n",
    "        calibration_frames.append(fr.Frame(calibration[frame*CHIRPS_PER_FRAME*SAMPLES_PER_CHIRP:(frame+1)*CHIRPS_PER_FRAME*SAMPLES_PER_CHIRP,:],\\\n",
    "                               SAMPLES_PER_CHIRP, CHIRPS_PER_FRAME, ANTENNA_NUMBER, T))\n",
    "\n",
    "    average_calib_chirp = np.zeros((SAMPLES_PER_CHIRP,ANTENNA_NUMBER),dtype=complex)\n",
    "    for frame in range(1):\n",
    "        for chirp in range(CHIRPS_PER_FRAME):\n",
    "            average_calib_chirp += calibration_frames[frame].get_chirp(chirp)\n",
    "\n",
    "    average_calib_chirp /= CHIRPS_PER_FRAME\n",
    "    \n",
    "    ###Target Data\n",
    "    \n",
    "    data_directory = os.fsencode(directory + folder + '/')\n",
    "\n",
    "    for file in os.listdir(data_directory):\n",
    "        filename = os.fsdecode(file)\n",
    "        if filename.find('environment') == -1 and filename.endswith('.txt') and filename.find('No_PCB_backwards_1') != -1:\n",
    "            actual_filename = filename\n",
    "            path = os.path.join(os.fsdecode(data_directory), filename)\n",
    "            print(path)                    \n",
    "            data = pd.read_csv(path, sep='\\t', header=None)\n",
    "            data.columns = [\"idx\",\"I_RX1\",\"Q_RX1\"]\n",
    "\n",
    "            recording = data.select_dtypes(include = ['float']).values\n",
    "            FRAME_NUMBER = len(data)//(SAMPLES_PER_CHIRP*CHIRPS_PER_FRAME)\n",
    "            Hu_bi_frame = []\n",
    "            ###Create dataset\n",
    "            for frame in range(FRAME_NUMBER):\n",
    "                Hu_bi_frame.append(fr.Frame(recording[frame*CHIRPS_PER_FRAME*SAMPLES_PER_CHIRP:(frame+1)*CHIRPS_PER_FRAME*SAMPLES_PER_CHIRP,:],\\\n",
    "                                       SAMPLES_PER_CHIRP, CHIRPS_PER_FRAME, ANTENNA_NUMBER, T)) \n",
    "            ###Calibrate frames\n",
    "            calibrate = True\n",
    "            if calibrate:\n",
    "                for frame in range(FRAME_NUMBER):\n",
    "                    Hu_bi_frame[frame].calibrate(average_calib_chirp)\n",
    "\n",
    "            xf = np.arange(0,RANGE_PAD)\n",
    "            range_bin = xf*T*SPEED_OF_LIGHT/(2*B)/(T/SAMPLES_PER_CHIRP)/RANGE_PAD\n",
    "            range2bin = 1/(T/SAMPLES_PER_CHIRP)/RANGE_PAD*T*SPEED_OF_LIGHT/(2*B)\n",
    "            vel_bin = fftshift(fftfreq(DOPPLER_PAD,PULSE_REPETITION_INTERVAL))*SPEED_OF_LIGHT/(2*START_FREQUENCY) \n",
    "\n",
    "            Target_observations = []\n",
    "            Range_spectrum_history = []\n",
    "            Unfiltered_spectrum_history = []\n",
    "            Target_info_list = []\n",
    "            Target_presence_list = []\n",
    "\n",
    "            ###Process frames\n",
    "            for frame in range(FRAME_NUMBER):\n",
    "                data_out,target_info, MTI_out = algo_process(Hu_bi_frame[frame],RANGE_PAD,CHIRPS_PER_FRAME,DOPPLER_PAD,PEAK_THRESHOLD,PEAK_SLICE,PEAK_WIDTH,PEAK_RELEVANCE,SEARCH_ZONE,ANGLE_CALIBRATION,ANGLE_PRECISION,round(LAMBDA/ANTENNA_SPACING),range2bin)\n",
    "                Range_spectrum_history.append(MTI_out)\n",
    "                Unfiltered_spectrum_history.append(abs(data_out[:,0,0]))\n",
    "                if(target_info.num_targets > 0 and target_info.location[0] < SEARCH_ZONE and target_info.location[0] > MIN_DIST):\n",
    "                    Target_info_list.append(target_info)\n",
    "                    Target_presence_list.append(1)\n",
    "                else:\n",
    "                    Target_presence_list.append(0)  \n",
    "\n",
    "            ###Feature extraction\n",
    "            target_doppler_spec = np.zeros((DOPPLER_PAD,1))\n",
    "            idx = 0\n",
    "\n",
    "            weighted_avg = []\n",
    "            weighted_std = []\n",
    "            location = []\n",
    "            strength = []\n",
    "            dB_Hi = 15\n",
    "            T_Hi_thr = np.power(10,dB_Hi/20)\n",
    "            dB_Mi = 30\n",
    "            T_Mi_thr = np.power(10,dB_Mi/20)\n",
    "            dB_Lo = 44\n",
    "            T_Lo_thr = np.power(10,dB_Lo/20)\n",
    "            SPC_Hi = []\n",
    "            SPD = []\n",
    "            SPC_Lo = []\n",
    "            SPC_Mi = []\n",
    "            MDR = []\n",
    "            maximum_deviation = []\n",
    "            Hi_peak_count = []\n",
    "            Lo_peak_count = []\n",
    "            std_deviation = []\n",
    "            Hi_harmonic_power_content = []\n",
    "            Lo_harmonic_power_content = []\n",
    "            frame_counter = []\n",
    "            correlation = []\n",
    "            max_to_mean_distance = []\n",
    "            peak_strength_std = []\n",
    "            Lo_skewness = []\n",
    "            Lo_skewness_variation = []\n",
    "            Hi_deviation = []\n",
    "            Hi_deviation_difference = []\n",
    "            Mi_peak_count = []\n",
    "            Mi_harmonic_power_content = []\n",
    "            Mi_skewness = []\n",
    "            Mi_skewness_difference = []\n",
    "            Hi_skewness = []\n",
    "            Hi_skewness_difference = []\n",
    "            Lo_skewness_mean = []\n",
    "            Side_lobe_strength = []\n",
    "            Side_lobe_max_spread = []\n",
    "            SPC_Lo_skewness = []\n",
    "            SPC_Mi_Hi_skewness = []\n",
    "            SPC_Mi_variance = []\n",
    "            counter = 0\n",
    "            \n",
    "            \n",
    "            \n",
    "            all_features = [location,weighted_avg,weighted_std,SPC_Hi,SPD,MDR,strength,maximum_deviation,SPC_Lo,Hi_peak_count,\\\n",
    "                           std_deviation,Hi_harmonic_power_content,frame_counter,correlation,max_to_mean_distance,peak_strength_std,\\\n",
    "                           Lo_peak_count,Lo_harmonic_power_content,SPC_Mi,Lo_skewness,Lo_skewness_variation,Hi_deviation,\\\n",
    "                           Hi_deviation_difference, Mi_peak_count, Mi_harmonic_power_content, Mi_skewness, Mi_skewness_difference,\\\n",
    "                           Hi_skewness, Hi_skewness_difference,Lo_skewness_mean,Side_lobe_strength,Side_lobe_max_spread,SPC_Lo_skewness,\\\n",
    "                           SPC_Mi_Hi_skewness, SPC_Mi_variance]\n",
    "\n",
    "            mask = []\n",
    "            kk = 0\n",
    "            for u in range(len(all_features)):\n",
    "                if u == 1:\n",
    "                    mask.append(False)\n",
    "                elif u == 12:\n",
    "                    mask.append(False)\n",
    "                elif u == 15:\n",
    "                    mask.append(False)\n",
    "                else:\n",
    "                    mask.append(support[kk])\n",
    "                    kk+=1\n",
    "            \n",
    "            predictions = []\n",
    "            \n",
    "            \n",
    "            bi_quadratic = []\n",
    "            for i in range(DOPPLER_PAD):\n",
    "                if i > 3*DOPPLER_PAD//8 and i < DOPPLER_PAD//2:\n",
    "                    bi_quadratic.append(1-(i-7*DOPPLER_PAD//16)**2/(DOPPLER_PAD//16)**2)\n",
    "                elif i > DOPPLER_PAD//2 and i < 5*DOPPLER_PAD//8:\n",
    "                    bi_quadratic.append(1-(i-9*DOPPLER_PAD//16)**2/(DOPPLER_PAD//16)**2)\n",
    "                else:\n",
    "                    bi_quadratic.append(0)\n",
    "                    \n",
    "            hor_quadratic = []\n",
    "            for i in range(DOPPLER_PAD):\n",
    "                if i > DOPPLER_PAD//4 and i < DOPPLER_PAD//2:\n",
    "                    hor_quadratic.append(np.sqrt((DOPPLER_PAD//2-i)/(DOPPLER_PAD//4)))\n",
    "                elif i > DOPPLER_PAD//2 and i < 3*DOPPLER_PAD//4:\n",
    "                    hor_quadratic.append(np.sqrt((i-DOPPLER_PAD//2)/(DOPPLER_PAD//4)))\n",
    "                else:\n",
    "                    hor_quadratic.append(0) \n",
    "            \n",
    "            previous_target_presence = 1 #to check for targets present in 2 subsequent frames\n",
    "            no_interruption = 0\n",
    "            subsequent_frames = 0\n",
    "\n",
    "            for target_presence in Target_presence_list:\n",
    "                counter +=1\n",
    "                ###Use to cut pieces of recording\n",
    "                if folder == 'Dataset_1':\n",
    "                    if filename.find('driving_diagonal_1')!=-1:\n",
    "                        if counter > 145 and counter < 275:\n",
    "                            target_doppler_spec = np.append(target_doppler_spec, np.zeros((DOPPLER_PAD,1)), axis=1)\n",
    "                            continue\n",
    "                    elif filename.find('driving_diagonal_2')!=-1:\n",
    "                        if counter > 135 and counter < 195:\n",
    "                            target_doppler_spec = np.append(target_doppler_spec, np.zeros((DOPPLER_PAD,1)), axis=1)\n",
    "                            continue\n",
    "                    elif filename.find('driving_diagonal_3')!=-1:\n",
    "                        if counter > 135 and counter < 260:\n",
    "                            target_doppler_spec = np.append(target_doppler_spec, np.zeros((DOPPLER_PAD,1)), axis=1)\n",
    "                            continue\n",
    "                if target_presence:\n",
    "                    next_dopp_spectrum = Target_info_list[idx].doppler_spectrum[:,0].reshape((DOPPLER_PAD,1))*Target_info_list[idx].location[0]**2\n",
    "                    target_doppler_spec = np.append(target_doppler_spec,next_dopp_spectrum , axis=1)\n",
    "                    if previous_target_presence:\n",
    "                        ###\n",
    "                        location.append(Target_info_list[idx].location[0]/SEARCH_ZONE)\n",
    "                        strength.append(sum(next_dopp_spectrum))\n",
    "                        ###\n",
    "                        length = len(next_dopp_spectrum)\n",
    "                        max_peak = max(next_dopp_spectrum)\n",
    "                        SPC_Hi_thresh = max_peak/T_Hi_thr\n",
    "                        SPC_Mi_thresh = max_peak/T_Mi_thr\n",
    "                        SPC_Lo_thresh = max_peak/T_Lo_thr\n",
    "                        weighted_avg.append(sum([i*next_dopp_spectrum[i] for i in range(length)])/sum(next_dopp_spectrum[:]))\n",
    "                        tmp_roll = np.roll(next_dopp_spectrum,DOPPLER_PAD//2-round(weighted_avg[subsequent_frames][0]))\n",
    "                        weighted_std.append(np.sqrt(sum([(i-DOPPLER_PAD//2)**2*tmp_roll[i] for i in np.arange(DOPPLER_PAD//4,3*DOPPLER_PAD//4)])/sum(tmp_roll[DOPPLER_PAD//4:3*DOPPLER_PAD//4])/(DOPPLER_PAD//4)**2))\n",
    "                        ###\n",
    "                        max_peak_bin = np.argmax(next_dopp_spectrum)\n",
    "                        tmp_roll = np.roll(next_dopp_spectrum,DOPPLER_PAD//2-max_peak_bin)\n",
    "                        SPC_Hi.append(sum([tmp_roll[i] > SPC_Hi_thresh for i in range(length)])/DOPPLER_PAD)\n",
    "                        if(not no_interruption):\n",
    "                            SPC_prime = SPC_Hi[subsequent_frames-1]\n",
    "                        else:\n",
    "                            previous_doppler_spectrum = Target_info_list[idx-1].doppler_spectrum[:,0].reshape((DOPPLER_PAD,1))*Target_info_list[idx-1].location[0]**2\n",
    "                            SPC_prime = sum([previous_doppler_spectrum[i] > SPC_Hi_thresh for i in range(length)])/DOPPLER_PAD\n",
    "                        SPD.append(np.abs(SPC_Hi[subsequent_frames] - SPC_Hi[subsequent_frames-1]))\n",
    "                        SPC_Lo.append(sum([(tmp_roll[i] > SPC_Lo_thresh and tmp_roll[i] <= SPC_Mi_thresh) for i in range(length)])/DOPPLER_PAD)\n",
    "                        SPC_Lo_skewness.append(sum([int(tmp_roll[i] > SPC_Lo_thresh and tmp_roll[i] <= SPC_Mi_thresh)*tmp_roll[i]*(i-DOPPLER_PAD//2)**3 for i in np.arange(DOPPLER_PAD//4,3*DOPPLER_PAD//4)])/(DOPPLER_PAD//4)**3/np.max(tmp_roll))\n",
    "                        SPC_Mi.append(sum([(tmp_roll[i] > SPC_Mi_thresh and tmp_roll[i] <= SPC_Hi_thresh) for i in range(length)])/DOPPLER_PAD)\n",
    "                        SPC_Mi_Hi_skewness.append(sum([int(tmp_roll[i] > SPC_Mi_thresh)*tmp_roll[i]*(i-DOPPLER_PAD//2)**3 for i in np.arange(DOPPLER_PAD//4,3*DOPPLER_PAD//4)])/(DOPPLER_PAD//4)**3/np.max(tmp_roll))\n",
    "                        SPC_Mi_variance.append(sum([int(tmp_roll[i] > SPC_Mi_thresh and tmp_roll[i] <= SPC_Hi_thresh)*tmp_roll[i]*(i-DOPPLER_PAD//2)**2 for i in np.arange(DOPPLER_PAD//4,3*DOPPLER_PAD//4)])/(DOPPLER_PAD//4)**2/np.max(tmp_roll))\n",
    "                        Gt = np.max(Target_info_list[idx].doppler_spectrum[:,0])*Target_info_list[idx].location[0]**2\n",
    "                        Gt_prime = np.max(Target_info_list[idx-1].doppler_spectrum[:,0])*Target_info_list[idx-1].location[0]**2\n",
    "                        MDR.append(np.abs(Gt - Gt_prime)/Gt )\n",
    "                        \n",
    "                        ### Details extraction\n",
    "                        Hi_details,Mi_details,Lo_details,all_details = doppler_details_extraction(tmp_roll,T_Lo_thr,T_Mi_thr,T_Hi_thr)                        \n",
    "                        if(not no_interruption):\n",
    "                            previous_doppler_spectrum = Target_info_list[idx-1].doppler_spectrum[:,0].reshape((DOPPLER_PAD,1))*Target_info_list[idx-1].location[0]**2\n",
    "                            max_peak_bin_prime = np.argmax(previous_doppler_spectrum)\n",
    "                            tmp_roll_prime = np.roll(previous_doppler_spectrum,DOPPLER_PAD//2-max_peak_bin_prime)\n",
    "                            Hi_details_prime,Mi_details_prime,Lo_details_prime,all_details_prime = doppler_details_extraction(tmp_roll_prime,T_Lo_thr,T_Mi_thr,T_Hi_thr)\n",
    "\n",
    "                        maximum_deviation.append(np.sqrt(sum([(i-DOPPLER_PAD//2)**2*tmp_roll[i] for i in range(length)])/sum(next_dopp_spectrum[:])/DOPPLER_PAD**2))\n",
    "                        Side_lobe_strength.append(np.sqrt(sum([bi_quadratic[i]*tmp_roll[i] for i in range(length)])/sum(next_dopp_spectrum[:])))\n",
    "                        Side_lobe_max_spread.append(np.sqrt(sum([hor_quadratic[i]*tmp_roll[i] for i in range(length)])/sum(next_dopp_spectrum[:])))\n",
    "                        ###High\n",
    "\n",
    "                        Hi_peak_count.append(Hi_details[\"peak_count\"])\n",
    "                        Hi_harmonic_power_content.append(Hi_details[\"total_harmonic_relative_strength\"])\n",
    "                        hi_std = np.sqrt(sum([(Hi_details[\"peak_bin\"][i]-DOPPLER_PAD//2)**2*Hi_details[\"harmonic_relative_strength\"][i] for i in range(Hi_details[\"peak_count\"])])/(DOPPLER_PAD//2)**2)\n",
    "                        Hi_deviation.append(hi_std)\n",
    "                        Hi_deviation_difference.append(abs(Hi_deviation[subsequent_frames] - Hi_deviation[subsequent_frames-1]))\n",
    "                        third_moment = (sum([(Hi_details[\"peak_bin\"][i]-DOPPLER_PAD//2)**3*Hi_details[\"harmonic_relative_strength\"][i] for i in range(Hi_details[\"peak_count\"])])/(DOPPLER_PAD//2)**3)\n",
    "                        Hi_skewness.append(third_moment)\n",
    "                        \n",
    "                        if(no_interruption):\n",
    "                            Hi_skewness_prime = Hi_skewness[subsequent_frames-1]\n",
    "                        else:\n",
    "                            Hi_skewness_prime = (sum([(Hi_details_prime[\"peak_bin\"][i]-DOPPLER_PAD//2)**3*Hi_details_prime[\"harmonic_relative_strength\"][i] for i in range(Hi_details_prime[\"peak_count\"])])/(DOPPLER_PAD//2)**3)\n",
    "                        \n",
    "                        Hi_skewness_difference.append(abs(Hi_skewness[subsequent_frames] - Hi_skewness_prime))\n",
    "                        \n",
    "                        ###Mid\n",
    "\n",
    "                        Mi_peak_count.append(Mi_details[\"peak_count\"])\n",
    "                        Mi_harmonic_power_content.append(Mi_details[\"total_harmonic_relative_strength\"])\n",
    "                        third_moment = (sum([(Mi_details[\"peak_bin\"][i]-DOPPLER_PAD//2)**3*Mi_details[\"harmonic_relative_strength\"][i] for i in range(Mi_details[\"peak_count\"])])/(DOPPLER_PAD//2)**3)\n",
    "                        Mi_skewness.append(third_moment)\n",
    "                        if(no_interruption):\n",
    "                            Mi_skewness_prime = Mi_skewness[subsequent_frames-1]\n",
    "                        else:\n",
    "                            Mi_skewness_prime = (sum([(Mi_details_prime[\"peak_bin\"][i]-DOPPLER_PAD//2)**3*Mi_details_prime[\"harmonic_relative_strength\"][i] for i in range(Mi_details_prime[\"peak_count\"])])/(DOPPLER_PAD//2)**3)\n",
    "\n",
    "                        Mi_skewness_difference.append(abs(Mi_skewness[subsequent_frames] - Mi_skewness_prime))\n",
    "                        \n",
    "                        ###Low\n",
    "\n",
    "                        Lo_peak_count.append(Lo_details[\"peak_count\"])\n",
    "                        Lo_harmonic_power_content.append(Lo_details[\"total_harmonic_relative_strength\"])\n",
    "                        skewness = (sum([(Lo_details[\"peak_bin\"][i]-DOPPLER_PAD//2)**3*Lo_details[\"harmonic_relative_strength\"][i] for i in range(Lo_details[\"peak_count\"])])/(DOPPLER_PAD//2)**3)\n",
    "                        Lo_skewness.append(skewness)\n",
    "                        if(no_interruption):\n",
    "                            Lo_skewness_prime = Lo_skewness[subsequent_frames-1]\n",
    "                        else:\n",
    "                            Lo_skewness_prime = (sum([(Lo_details_prime[\"peak_bin\"][i]-DOPPLER_PAD//2)**3*Lo_details_prime[\"harmonic_relative_strength\"][i] for i in range(Lo_details_prime[\"peak_count\"])])/(DOPPLER_PAD//2)**3)\n",
    "\n",
    "                        Lo_skewness_variation.append(abs(Lo_skewness[subsequent_frames] - Lo_skewness_prime))\n",
    "                        Lo_skewness_mean.append((Lo_skewness[subsequent_frames] + Lo_skewness_prime)/2)\n",
    "                        \n",
    "                        ###\n",
    "                        if(no_interruption):\n",
    "                            weighted_std_prime = weighted_std[subsequent_frames-1]\n",
    "                        else:\n",
    "                            previous_doppler_spectrum = Target_info_list[idx-1].doppler_spectrum[:,0].reshape((DOPPLER_PAD,1))*Target_info_list[idx-1].location[0]**2\n",
    "                            weighted_avg_prime = (sum([i*previous_doppler_spectrum[i] for i in range(length)])/sum(previous_doppler_spectrum[:]))\n",
    "                            tmp_roll = np.roll(previous_doppler_spectrum,DOPPLER_PAD//2-round(weighted_avg_prime[0]))\n",
    "                            weighted_std_prime = (np.sqrt(sum([(i-DOPPLER_PAD//2)**2*tmp_roll[i] for i in np.arange(DOPPLER_PAD//4,3*DOPPLER_PAD//4)])/sum(tmp_roll[DOPPLER_PAD//4:3*DOPPLER_PAD//4])/(DOPPLER_PAD//4)**2))\n",
    "\n",
    "\n",
    "                        \n",
    "                        std_deviation.append(np.abs(weighted_std[subsequent_frames] - weighted_std_prime))\n",
    "                        frame_counter.append(counter)\n",
    "                        ###\n",
    "                        correlation.append(sum(Target_info_list[idx].doppler_spectrum[:,0]*Target_info_list[idx-1].doppler_spectrum[:,0])/sum(Target_info_list[idx].doppler_spectrum[:,0])**2)\n",
    "                        ###\n",
    "                        max_to_mean_distance.append(np.abs(max_peak_bin-weighted_avg[subsequent_frames])/DOPPLER_PAD)\n",
    "                        ###\n",
    "                        peak_strength = np.max(Target_info_list[idx].print[:,:,0],axis=0)*Target_info_list[idx].location[0]**2\n",
    "                        peak_strength_mean = np.sum(peak_strength)/CHIRPS_PER_FRAME\n",
    "                        peak_strength_std.append(np.sqrt(np.sum((peak_strength-peak_strength_mean)**2)))\n",
    "                        \n",
    "                        \n",
    "                        ### Prediction\n",
    "                        X_test = []\n",
    "                        for v in range(len(mask)):\n",
    "                            if mask[v]:\n",
    "                                try:\n",
    "                                    X_test.append(all_features[v][subsequent_frames][0])\n",
    "                                except:\n",
    "                                    X_test.append(all_features[v][subsequent_frames])\n",
    "                        X_test = (np.array(X_test) - np.array(norm_mean[support]))/np.array(norm_scale[support]).reshape(1,-1)  \n",
    "                        predictions.append(classifier.predict(X_test)[0])        \n",
    "\n",
    "                        subsequent_frames += 1\n",
    "                        \n",
    "                    ### Append -1 in case 2 subsequent frames were not available    \n",
    "                    else:\n",
    "                        predictions.append(-1)\n",
    "                    idx += 1\n",
    "                else:\n",
    "                    predictions.append(-1)\n",
    "                    target_doppler_spec = np.append(target_doppler_spec, np.zeros((DOPPLER_PAD,1)), axis=1)\n",
    "\n",
    "                no_interruption = previous_target_presence\n",
    "                previous_target_presence = target_presence\n",
    "                no_interruption = no_interruption and previous_target_presence and target_presence\n",
    "\n",
    "            target_doppler_spec = target_doppler_spec[:,1:]\n",
    "            print(\"Doppler x total_frames: \" + str(target_doppler_spec.shape))\n",
    "            ### SAVE STATS\n",
    "            '''\n",
    "            Target_statistics = np.empty((1,subsequent_frames))\n",
    "            for feature in all_features:\n",
    "                Target_statistics = np.append(Target_statistics,np.array(feature).reshape(1,-1),axis=0)\n",
    "            Target_statistics = Target_statistics[1:,:]\n",
    "\n",
    "\n",
    "            print(\"Extracted_features x data_points: \" + str(Target_statistics.shape))\n",
    "\n",
    "            df = pd.DataFrame(Target_statistics)\n",
    "            output_path = \"../statistics_data_processing/data/\"\n",
    "            output_filename = actual_filename.split('.')[0]\n",
    "            extension = '_statistics'\n",
    "            df.T.to_csv(output_path+output_filename+'_'+folder+extension+'.txt', sep='\\t',index=False, header=False)\n",
    "            '''"
   ]
  },
  {
   "cell_type": "code",
   "execution_count": null,
   "metadata": {},
   "outputs": [],
   "source": []
  },
  {
   "cell_type": "code",
   "execution_count": 36,
   "metadata": {},
   "outputs": [
    {
     "name": "stdout",
     "output_type": "stream",
     "text": [
      "[2, 2, 2, 2, 2, 2, 2, 2, 2, 2, 2, 2, 2, 2, 2, 2, 2, 2, 2, 2, 2, 2, 2, 2, -1, -1, -1, -1, -1, -1, -1, -1, -1, -1, -1, -1, -1, -1, -1, -1, -1, -1, -1, -1, -1, -1, -1, -1, -1, -1, -1, -1, -1, -1, -1, -1, -1, -1, -1, -1, -1, -1, -1, -1, -1, -1, -1, -1, -1, -1, -1, -1, -1, -1, -1, -1, -1, -1, -1, 2, 2, 2, 2, 2, 2, 2, 2, 0, 2, 2, 2, 2, 2, 2, 2, 2, 2, 2, 2, 2, 2, 2, 2, 2, 2, 1, 2, 2, 2, 2, 2, 2, 2, 2, 2, 1, 1, 2, -1, -1, -1, -1, -1, -1, -1, -1, -1, -1, -1, -1, -1, -1, -1, -1, -1, -1, -1, -1, -1, -1, -1, -1, -1, -1, -1, -1, -1, -1, -1, -1, -1, -1, -1, -1, -1, -1, 2, 2, 2, 2, 2, 2, 2, 2, 2, 2, 2, 2, 2, 2, 2, 2, 2, 2, 2, 2, 2, 2, 2, 2, 2, -1, -1, -1, -1, -1, -1, -1, -1, -1, -1, -1, -1, -1, -1, -1, -1, -1, -1, -1]\n"
     ]
    }
   ],
   "source": [
    "predictions_converted = []\n",
    "for pred in predictions:\n",
    "    if pred == 0 or pred == 3 or pred == 6:\n",
    "        predictions_converted.append(0)\n",
    "    elif pred == 1 or pred == 4 or pred == 7:\n",
    "        predictions_converted.append(1)\n",
    "    elif pred == 2 or pred == 5 or pred == 8:\n",
    "        predictions_converted.append(2)\n",
    "    elif pred == -1:\n",
    "        predictions_converted.append(-1)\n",
    "predictions = predictions_converted\n",
    "print(predictions)"
   ]
  },
  {
   "cell_type": "code",
   "execution_count": 38,
   "metadata": {},
   "outputs": [
    {
     "name": "stderr",
     "output_type": "stream",
     "text": [
      "<ipython-input-38-72f59c880ea9>:19: UserWarning: FixedFormatter should only be used together with FixedLocator\n",
      "  _ = ax.set_yticklabels(ax.get_yticks(),fontsize=20)\n"
     ]
    },
    {
     "data": {
      "image/png": "[encoded data removed]",
      "text/plain": [
       "<Figure size 1440x720 with 2 Axes>"
      ]
     },
     "metadata": {
      "needs_background": "light"
     },
     "output_type": "display_data"
    }
   ],
   "source": [
    "import matplotlib as mpl\n",
    "from matplotlib.ticker import FormatStrFormatter\n",
    "%matplotlib inline\n",
    "### PLOT DOPPLER VS TIME\n",
    "fig,[ax,cax] = plt.subplots(1,2, gridspec_kw={\"width_ratios\":[10,1],'wspace':0.01}, figsize=[20,10])\n",
    "ax.clear()\n",
    "cmap = mpl.cm.get_cmap('turbo')\n",
    "norm = mpl.colors.Normalize(vmin=0, vmax=np.max(target_doppler_spec))\n",
    "cb1 = mpl.colorbar.ColorbarBase(cax, cmap=cmap,\n",
    "                                norm=norm,\n",
    "                                orientation='vertical')\n",
    "levels = np.linspace(0.0, np.max(target_doppler_spec), 100)\n",
    "ax.pcolormesh(np.arange(0,counter)*FRAME_REP_INTERVAL,vel_bin,target_doppler_spec, cmap=cmap, norm=norm, shading='nearest')\n",
    "ax.set_xlabel('seconds',fontsize=30)\n",
    "ax.set_ylabel('velocity', fontsize=30)\n",
    "_ = ax.set_xticks(np.arange(0,FRAME_NUMBER,20)*FRAME_REP_INTERVAL)\n",
    "_ = ax.set_xticklabels((np.arange(0,FRAME_NUMBER,20)*FRAME_REP_INTERVAL).astype('int'),fontsize=20)\n",
    "#_ = ax.set_yticks(vel_bin[np.arange(0,DOPPLER_PAD,64)])\n",
    "_ = ax.set_yticklabels(ax.get_yticks(),fontsize=20)\n",
    "plt.savefig('Thesis_figures/'+'No_PCB.png')\n",
    "            "
   ]
  },
  {
   "cell_type": "code",
   "execution_count": 18,
   "metadata": {},
   "outputs": [
    {
     "name": "stderr",
     "output_type": "stream",
     "text": [
      "<ipython-input-18-3a5077f1ffce>:25: UserWarning: FixedFormatter should only be used together with FixedLocator\n",
      "  _ = ax.set_yticklabels(ax.get_yticks(),fontsize=20)\n"
     ]
    },
    {
     "data": {
      "image/png": "[encoded data removed]",
      "text/plain": [
       "<Figure size 1440x720 with 2 Axes>"
      ]
     },
     "metadata": {
      "needs_background": "light"
     },
     "output_type": "display_data"
    }
   ],
   "source": [
    "%matplotlib inline\n",
    "rolled_doppler = np.zeros(target_doppler_spec.shape)\n",
    "\n",
    "for frame in range(FRAME_NUMBER):\n",
    "    if max(target_doppler_spec[:,frame]) > 0:\n",
    "        max_idx = np.argmax(target_doppler_spec[:,frame])\n",
    "        #round(sum([(i)*target_doppler_spec[i,frame] for i in range(DOPPLER_PAD)])/sum(target_doppler_spec[:,frame]))\n",
    "        rolled_doppler[:,frame] = np.roll(target_doppler_spec[:,frame],(DOPPLER_PAD//2 - max_idx))\n",
    "\n",
    "fig,[ax,cax] = plt.subplots(1,2, gridspec_kw={\"width_ratios\":[10,1],'wspace':0.01}, figsize=[20,10])\n",
    "ax.clear()\n",
    "cmap = mpl.cm.get_cmap('turbo')\n",
    "norm = mpl.colors.Normalize(vmin=0, vmax=np.max(rolled_doppler))\n",
    "cb1 = mpl.colorbar.ColorbarBase(cax, cmap=cmap,\n",
    "                                norm=norm,\n",
    "                                orientation='vertical')\n",
    "levels = np.linspace(0.0, np.max(rolled_doppler), 100)\n",
    "ax.pcolormesh(np.arange(0,FRAME_NUMBER)*FRAME_REP_INTERVAL,vel_bin,rolled_doppler, cmap=cmap, norm=norm, shading='nearest')\n",
    "#ax.contourf(np.arange(0,FRAME_NUMBER),vel_bin,rolled_doppler, levels, cmap=cmap, norm=norm)\n",
    "ax.set_xlabel('seconds',fontsize=30)\n",
    "ax.set_ylabel('velocity', fontsize=30)\n",
    "_ = ax.set_xticks(np.arange(0,FRAME_NUMBER,20)*FRAME_REP_INTERVAL)\n",
    "_ = ax.set_xticklabels((np.arange(0,FRAME_NUMBER,20)*FRAME_REP_INTERVAL).astype('int'),fontsize=20)\n",
    "#_ = ax.set_yticks(vel_bin[np.arange(0,DOPPLER_PAD,64)])\n",
    "_ = ax.set_yticklabels(ax.get_yticks(),fontsize=20)\n",
    "#plt.savefig('Thesis_figures/'+'centered_all_doppler_biking_boresight_1.png')"
   ]
  },
  {
   "cell_type": "code",
   "execution_count": 11,
   "metadata": {},
   "outputs": [
    {
     "data": {
      "image/png": "[encoded data removed]",
      "text/plain": [
       "<Figure size 864x360 with 8 Axes>"
      ]
     },
     "metadata": {
      "needs_background": "light"
     },
     "output_type": "display_data"
    }
   ],
   "source": [
    "column_plots = 1\n",
    "row_plots = 8\n",
    "fig,ax = plt.subplots(row_plots,column_plots,figsize=[12,5])\n",
    "from_second_number = 100#round(32/FRAME_REP_INTERVAL)\n",
    "for col in range(column_plots):\n",
    "    for row in range(row_plots):\n",
    "        data = target_doppler_spec[:,row + row_plots*col + from_second_number].reshape((1,-1))[0,:]\n",
    "        ax[row].plot(vel_bin,data)\n",
    "plt.show()"
   ]
  },
  {
   "cell_type": "code",
   "execution_count": 12,
   "metadata": {},
   "outputs": [
    {
     "data": {
      "application/vnd.jupyter.widget-view+json": {
       "model_id": "ee04feae3caf43089029fe4017b3baf5",
       "version_major": 2,
       "version_minor": 0
      },
      "text/plain": [
       "Canvas(toolbar=Toolbar(toolitems=[('Home', 'Reset original view', 'home', 'home'), ('Back', 'Back to previous …"
      ]
     },
     "metadata": {},
     "output_type": "display_data"
    }
   ],
   "source": [
    "%matplotlib widget\n",
    "fig,ax = plt.subplots(3,1, figsize=[12,5]) \n",
    "from_second_number = 105#round(32/FRAME_REP_INTERVAL)+5\n",
    "#for frame in np.arange(from_second_number,from_second_number+1):\n",
    "ax[0].plot(np.sum(target_doppler_spec[:,from_second_number:from_second_number+1],axis=1))\n",
    "if(sum(target_doppler_spec[:,from_second_number:from_second_number+1][:] > 0)):\n",
    "    actual_dopp = target_doppler_spec[:,from_second_number:from_second_number+1]\n",
    "    weighted_avg_1 = sum([i*actual_dopp[i] for i in range(length)])/sum(actual_dopp[:])\n",
    "    ax[0].plot(weighted_avg_1,np.max(actual_dopp),'ro')\n",
    "    low_tresh = np.max(actual_dopp)/T_Lo_thr*np.ones(length)\n",
    "    mid_tresh = np.max(actual_dopp)/T_Mi_thr*np.ones(length)\n",
    "    high_tresh = np.max(actual_dopp)/T_Hi_thr*np.ones(length)\n",
    "    ax[0].plot(low_tresh)\n",
    "    ax[0].plot(mid_tresh)\n",
    "    ax[0].plot(high_tresh)\n",
    "    ax[0].set_ylim((0,high_tresh[0]*11/10))\n",
    "\n",
    "\n",
    "    actual_dopp = np.roll(actual_dopp,DOPPLER_PAD//2 - round(weighted_avg_1[0]))\n",
    "    ax[1].plot(actual_dopp)\n",
    "    weighted_avg_1 = sum([i*actual_dopp[i] for i in range(length)])/sum(actual_dopp[:])\n",
    "    ax[1].plot(DOPPLER_PAD//2,np.max(actual_dopp),'ro')\n",
    "    ax[1].plot(low_tresh)\n",
    "    ax[1].plot(mid_tresh)\n",
    "    ax[1].plot(high_tresh)\n",
    "\n",
    "    weighted_std_1 = ([(i-DOPPLER_PAD//2)**2*actual_dopp[i] for i in np.arange(DOPPLER_PAD//4,3*DOPPLER_PAD//4)])/sum(tmp_roll[DOPPLER_PAD//4:3*DOPPLER_PAD//4])/(DOPPLER_PAD//4)**2\n",
    "    ax[2].plot(np.arange(0,len(weighted_std_1))+DOPPLER_PAD//4,weighted_std_1,'bo')\n",
    "    print(np.sqrt(sum(weighted_std_1)))\n",
    "    print(round(weighted_avg_1[0]))"
   ]
  },
  {
   "cell_type": "code",
   "execution_count": 13,
   "metadata": {},
   "outputs": [
    {
     "data": {
      "image/png": "[encoded data removed]",
      "text/plain": [
       "<Figure size 1440x720 with 1 Axes>"
      ]
     },
     "metadata": {
      "needs_background": "light"
     },
     "output_type": "display_data"
    }
   ],
   "source": [
    "%matplotlib inline\n",
    "fig,ax = plt.subplots(1,1,figsize=(20,10))\n",
    "ax.plot(np.sum(target_doppler_spec[:,from_second_number:from_second_number+1],axis=1))\n",
    "if(sum(target_doppler_spec[:,from_second_number:from_second_number+1][:] > 0)):\n",
    "    actual_dopp = target_doppler_spec[:,from_second_number:from_second_number+1]\n",
    "    weighted_avg_1 = sum([i*actual_dopp[i] for i in range(length)])/sum(actual_dopp[:])\n",
    "    ax.plot(weighted_avg_1,np.max(actual_dopp),'ro')\n",
    "    low_tresh = np.max(actual_dopp)/T_Lo_thr*np.ones(length)\n",
    "    mid_tresh = np.max(actual_dopp)/T_Mi_thr*np.ones(length)\n",
    "    high_tresh = np.max(actual_dopp)/T_Hi_thr*np.ones(length)\n",
    "    ax.plot(low_tresh)\n",
    "    ax.plot(mid_tresh)\n",
    "    ax.plot(high_tresh)\n",
    "    #ax.set_ylim((0,high_tresh[0]*11/10))"
   ]
  },
  {
   "cell_type": "code",
   "execution_count": 14,
   "metadata": {},
   "outputs": [],
   "source": [
    "def peak_search_details(spectrum,Lo_thresh,Hi_thresh,peak_relevance):\n",
    "    counter = 0\n",
    "    peak_power = np.max(spectrum)\n",
    "    peak_bin = np.argmax(spectrum)\n",
    "    harmonic_power = 0\n",
    "    fbc = 2\n",
    "    fbl2 = fbc - 2\n",
    "    fbl1 = fbc - 1\n",
    "    fbr1 = fbc + 1\n",
    "    fbr2 = fbc + 2\n",
    "    peak_info = {\"peak_bin\":[],\"peak_strength\":[],\"max_peak_strength\":peak_power}\n",
    "    \n",
    "    for idx in range(len(spectrum)):\n",
    "        if fbr2 >= len(spectrum):\n",
    "            continue\n",
    "        pvl2 = spectrum[fbl2]\n",
    "        pvl1 = spectrum[fbl1]\n",
    "        pvc = spectrum[fbc]\n",
    "        pvr1 = spectrum[fbr1]\n",
    "        pvr2 = spectrum[fbr2]\n",
    "        if pvl2+peak_relevance < pvl1 and pvr1 > pvr2+peak_relevance and pvc > Lo_thresh and pvc < Hi_thresh and pvc >= pvl1 and pvc >= pvr1 and fbc != peak_bin:\n",
    "            peak_info[\"peak_bin\"].append(fbc)\n",
    "            peak_info[\"peak_strength\"].append(pvc/peak_power)\n",
    "        fbc += 1\n",
    "        fbl2 = fbc - 2\n",
    "        fbl1 = fbc - 1\n",
    "        fbr1 = fbc + 1\n",
    "        fbr2 = fbc + 2\n",
    "    return peak_info\n",
    "    "
   ]
  },
  {
   "cell_type": "code",
   "execution_count": 15,
   "metadata": {},
   "outputs": [],
   "source": [
    "frame_doppler_peaks_dict = []\n",
    "for target in Target_info_list:\n",
    "    max_bin = np.argmax(target.doppler_spectrum[:,0])\n",
    "    frame_doppler_peaks_dict.append(peak_search_details(np.roll(target.doppler_spectrum[:,0]*target.location[0]**2,DOPPLER_PAD//2 - max_bin),0,np.Inf,0))"
   ]
  },
  {
   "cell_type": "code",
   "execution_count": 16,
   "metadata": {},
   "outputs": [
    {
     "data": {
      "application/vnd.jupyter.widget-view+json": {
       "model_id": "ef505c6db4fa4b54b3e66125cb157d54",
       "version_major": 2,
       "version_minor": 0
      },
      "text/plain": [
       "Canvas(toolbar=Toolbar(toolitems=[('Home', 'Reset original view', 'home', 'home'), ('Back', 'Back to previous …"
      ]
     },
     "metadata": {},
     "output_type": "display_data"
    },
    {
     "data": {
      "text/plain": [
       "(0.0, 0.8)"
      ]
     },
     "execution_count": 16,
     "metadata": {},
     "output_type": "execute_result"
    }
   ],
   "source": [
    "%matplotlib widget\n",
    "fig,ax = plt.subplots(1,1, figsize=[12,5]) \n",
    "all_doppler_peaks = np.array([])\n",
    "for frame in frame_doppler_peaks_dict:\n",
    "    all_doppler_peaks = np.append(all_doppler_peaks,np.array(frame[\"peak_strength\"]))\n",
    "n,bins=np.histogram(all_doppler_peaks,5000)\n",
    "cumulative_n = [0]\n",
    "for idx in range(len(n)):\n",
    "    cumulative_n.append(n[idx] + cumulative_n[idx])\n",
    "ax.plot(bins,cumulative_n/cumulative_n[-1])\n",
    "ax.set_xlim((0,0.8))"
   ]
  },
  {
   "cell_type": "code",
   "execution_count": 17,
   "metadata": {},
   "outputs": [
    {
     "data": {
      "application/vnd.jupyter.widget-view+json": {
       "model_id": "5c845f63d2e141cabb61d81999372f2c",
       "version_major": 2,
       "version_minor": 0
      },
      "text/plain": [
       "Canvas(toolbar=Toolbar(toolitems=[('Home', 'Reset original view', 'home', 'home'), ('Back', 'Back to previous …"
      ]
     },
     "metadata": {},
     "output_type": "display_data"
    },
    {
     "data": {
      "text/plain": [
       "[<matplotlib.lines.Line2D at 0x1544826ec1c0>]"
      ]
     },
     "execution_count": 17,
     "metadata": {},
     "output_type": "execute_result"
    }
   ],
   "source": [
    "peak_presence_frequency = np.zeros(len(bins)-1)\n",
    "for frame_peaks in frame_doppler_peaks_dict:\n",
    "    for bin_idx in range(len(bins)-1):\n",
    "        for peak in frame_peaks['peak_strength']:\n",
    "            if bins[bin_idx] <= peak and bins[bin_idx+1] >= peak:\n",
    "                peak_presence_frequency[bin_idx] += 1\n",
    "                break               \n",
    "    \n",
    "\n",
    "fig,ax = plt.subplots(1,1, figsize=[12,5]) \n",
    "ax.plot(bins[:-1],peak_presence_frequency/sum(Target_presence_list))\n",
    "                "
   ]
  },
  {
   "cell_type": "code",
   "execution_count": 18,
   "metadata": {},
   "outputs": [
    {
     "data": {
      "application/vnd.jupyter.widget-view+json": {
       "model_id": "de8a2e7e9133462d889e3a9e325a7ec9",
       "version_major": 2,
       "version_minor": 0
      },
      "text/plain": [
       "Canvas(toolbar=Toolbar(toolitems=[('Home', 'Reset original view', 'home', 'home'), ('Back', 'Back to previous …"
      ]
     },
     "metadata": {},
     "output_type": "display_data"
    },
    {
     "data": {
      "text/plain": [
       "(0.0, 0.04)"
      ]
     },
     "execution_count": 18,
     "metadata": {},
     "output_type": "execute_result"
    }
   ],
   "source": [
    "fig,ax = plt.subplots(1,1, figsize=[12,5]) \n",
    "ax.plot(bins[:-1],peak_presence_frequency/sum(Target_presence_list)**2*n)\n",
    "ax.set_xlim((0,0.04))"
   ]
  },
  {
   "cell_type": "code",
   "execution_count": 19,
   "metadata": {},
   "outputs": [
    {
     "data": {
      "application/vnd.jupyter.widget-view+json": {
       "model_id": "2e6c791e5b7542bfb8f41c0e0f24e611",
       "version_major": 2,
       "version_minor": 0
      },
      "text/plain": [
       "Canvas(toolbar=Toolbar(toolitems=[('Home', 'Reset original view', 'home', 'home'), ('Back', 'Back to previous …"
      ]
     },
     "metadata": {},
     "output_type": "display_data"
    },
    {
     "name": "stderr",
     "output_type": "stream",
     "text": [
      "<ipython-input-19-f607c31a32bd>:15: UserWarning: FixedFormatter should only be used together with FixedLocator\n",
      "  _ = ax.set_yticklabels(ax.get_yticks(),fontsize=20)\n"
     ]
    }
   ],
   "source": [
    "fig,[ax,cax] = plt.subplots(1,2, gridspec_kw={\"width_ratios\":[10,1],'wspace':0.01}, figsize=[20,10])\n",
    "ax.clear()\n",
    "cmap = mpl.cm.get_cmap('turbo')\n",
    "norm = mpl.colors.Normalize(vmin=0, vmax=np.max(Range_spectrum_history))\n",
    "cb1 = mpl.colorbar.ColorbarBase(cax, cmap=cmap,\n",
    "                                norm=norm,\n",
    "                                orientation='vertical')\n",
    "levels = np.linspace(0.0, np.max(Range_spectrum_history), 100)\n",
    "ax.pcolormesh(np.arange(0,FRAME_NUMBER)*FRAME_REP_INTERVAL,range_bin,np.array(Range_spectrum_history).T, cmap=cmap, norm=norm, shading='nearest')\n",
    "ax.set_xlabel('seconds',fontsize=30)\n",
    "ax.set_ylabel('range', fontsize=30)\n",
    "_ = ax.set_xticks(np.arange(0,FRAME_NUMBER,20)*FRAME_REP_INTERVAL)\n",
    "_ = ax.set_xticklabels((np.arange(0,FRAME_NUMBER,20)*FRAME_REP_INTERVAL).astype('int'),fontsize=20)\n",
    "#_ = ax.set_yticks(vel_bin[np.arange(0,DOPPLER_PAD,64)])\n",
    "_ = ax.set_yticklabels(ax.get_yticks(),fontsize=20)\n",
    "plt.savefig('Thesis_figures/'+'Presentation_MTI_range_driving_boresight_1.png')"
   ]
  },
  {
   "cell_type": "code",
   "execution_count": 20,
   "metadata": {},
   "outputs": [
    {
     "data": {
      "application/vnd.jupyter.widget-view+json": {
       "model_id": "856807e617084b7592685579f784947c",
       "version_major": 2,
       "version_minor": 0
      },
      "text/plain": [
       "Canvas(toolbar=Toolbar(toolitems=[('Home', 'Reset original view', 'home', 'home'), ('Back', 'Back to previous …"
      ]
     },
     "metadata": {},
     "output_type": "display_data"
    },
    {
     "name": "stderr",
     "output_type": "stream",
     "text": [
      "<ipython-input-20-d2be87e60bd3>:15: UserWarning: FixedFormatter should only be used together with FixedLocator\n",
      "  _ = ax.set_yticklabels(ax.get_yticks(),fontsize=20)\n"
     ]
    }
   ],
   "source": [
    "fig,[ax,cax] = plt.subplots(1,2, gridspec_kw={\"width_ratios\":[10,1],'wspace':0.01}, figsize=[20,10])\n",
    "ax.clear()\n",
    "cmap = mpl.cm.get_cmap('turbo')\n",
    "norm = mpl.colors.Normalize(vmin=0, vmax=np.max(Unfiltered_spectrum_history))\n",
    "cb1 = mpl.colorbar.ColorbarBase(cax, cmap=cmap,\n",
    "                                norm=norm,\n",
    "                                orientation='vertical')\n",
    "levels = np.linspace(0.0, np.max(Unfiltered_spectrum_history), 100)\n",
    "ax.pcolormesh(np.arange(0,FRAME_NUMBER)*FRAME_REP_INTERVAL,range_bin,np.array(Unfiltered_spectrum_history).T, cmap=cmap, norm=norm, shading='nearest')\n",
    "ax.set_xlabel('seconds',fontsize=30)\n",
    "ax.set_ylabel('range', fontsize=30)\n",
    "_ = ax.set_xticks(np.arange(0,FRAME_NUMBER,20)*FRAME_REP_INTERVAL)\n",
    "_ = ax.set_xticklabels((np.arange(0,FRAME_NUMBER,20)*FRAME_REP_INTERVAL).astype('int'),fontsize=20)\n",
    "#_ = ax.set_yticks(vel_bin[np.arange(0,DOPPLER_PAD,64)])\n",
    "_ = ax.set_yticklabels(ax.get_yticks(),fontsize=20)\n",
    "#plt.savefig('Thesis_figures/'+'Unfiltered_range_biking_boresight_1.png')"
   ]
  },
  {
   "cell_type": "code",
   "execution_count": 21,
   "metadata": {},
   "outputs": [
    {
     "data": {
      "application/vnd.jupyter.widget-view+json": {
       "model_id": "bfea56ad1513450f9aa9ad24c43dbb2e",
       "version_major": 2,
       "version_minor": 0
      },
      "text/plain": [
       "Canvas(toolbar=Toolbar(toolitems=[('Home', 'Reset original view', 'home', 'home'), ('Back', 'Back to previous …"
      ]
     },
     "metadata": {},
     "output_type": "display_data"
    }
   ],
   "source": [
    "%matplotlib widget\n",
    "column_plots = 1\n",
    "row_plots = 2\n",
    "fig,ax = plt.subplots(row_plots,column_plots,figsize=[12,5])\n",
    "from_second_number = 0\n",
    "separator = np.zeros(len(Target_info_list[0].print[:,0,0]))\n",
    "separator[-1] = 0.05\n",
    "separator_list = []\n",
    "for i in range(len(Target_info_list[0].print[0,:,0])):\n",
    "    separator_list.append(separator)\n",
    "separator_list = np.array(separator_list).reshape((1,-1))[0,:]\n",
    "\n",
    "for col in range(column_plots):\n",
    "    for row in range(row_plots):\n",
    "        data = Target_info_list[row + row_plots*col + from_second_number].print[:,:,0].T.reshape((1,-1))[0,:]\n",
    "        ax[row].set_ylim(0,0.2)\n",
    "        ax[row].plot(data)\n",
    "        ax[row].plot(separator_list[:],'ro',markersize=0.5)\n",
    "plt.show()\n",
    "\n",
    "peak_avg = sum(np.max(Target_info_list[from_second_number].print[:,:,0],axis=0))/CHIRPS_PER_FRAME"
   ]
  },
  {
   "cell_type": "code",
   "execution_count": 22,
   "metadata": {},
   "outputs": [
    {
     "data": {
      "application/vnd.jupyter.widget-view+json": {
       "model_id": "52d3b59309f949789eb6cfdf96f07f5e",
       "version_major": 2,
       "version_minor": 0
      },
      "text/plain": [
       "Canvas(toolbar=Toolbar(toolitems=[('Home', 'Reset original view', 'home', 'home'), ('Back', 'Back to previous …"
      ]
     },
     "metadata": {},
     "output_type": "display_data"
    },
    {
     "name": "stdout",
     "output_type": "stream",
     "text": [
      "11.377206099784633\n"
     ]
    }
   ],
   "source": [
    "column_plots = 1\n",
    "row_plots = 8\n",
    "fig,ax = plt.subplots(row_plots,column_plots,figsize=[20,10])\n",
    "from_second_number = 9\n",
    "separator = np.zeros(len(Target_info_list[0].print[:,0,0]))\n",
    "separator[-1] = 0.05\n",
    "separator_list = []\n",
    "for i in range(len(Target_info_list[0].print[0,:,0])):\n",
    "    separator_list.append(separator)\n",
    "separator_list = np.array(separator_list).reshape((1,-1))[0,:]\n",
    "\n",
    "for col in range(column_plots):\n",
    "    for row in range(row_plots):\n",
    "        data = np.max(Target_info_list[row + row_plots*col + from_second_number].print[:,:,0],axis=0).T.reshape((1,-1))[0,:]\n",
    "        ax[row].hist(data,bins=100,range=(0,0.2),density=False)\n",
    "plt.show()\n",
    "print(Target_info_list[from_second_number].location[0])"
   ]
  },
  {
   "cell_type": "code",
   "execution_count": 23,
   "metadata": {},
   "outputs": [],
   "source": [
    "peak_collection = []\n",
    "for target in Target_info_list:\n",
    "    peak_strength = np.max(target.print[:,:,0],axis=0)*target.location[0]**2\n",
    "    peak_strength_mean = np.sum(peak_strength)/CHIRPS_PER_FRAME\n",
    "    peak_collection.append(peak_strength-peak_strength_mean)\n",
    "peak_collection = np.array(peak_collection).reshape((1,-1))\n",
    "_=plt.hist(peak_collection[0,:],bins=100)"
   ]
  },
  {
   "cell_type": "code",
   "execution_count": null,
   "metadata": {},
   "outputs": [],
   "source": []
  },
  {
   "cell_type": "code",
   "execution_count": 24,
   "metadata": {},
   "outputs": [
    {
     "data": {
      "text/plain": [
       "\"\\nfrom matplotlib.animation import FuncAnimation, writers\\nfig,[ax1,ax2] = plt.subplots(2,1,figsize=(25, 25))\\n\\nclasses = ['Pedestrian','Cyclist','Car']\\n\\nax1.title.set_text('Range')\\nax1.title.set_fontsize(40)\\nax2.title.set_fontsize(40)\\nax2.title.set_text('Doppler')\\n\\nax1.set_xlim(range_bin[0], range_bin[-1])\\nax1.set_ylim(0,np.max(Range_spectrum_history)*8/10)\\nax2.set_xlim(vel_bin[0], vel_bin[-1])\\nax1.tick_params(labelsize=30)\\nax2.tick_params(labelsize=30)\\n#ax2.set_ylim(0,np.max(target_doppler_spec)*0.5)\\nax1.axvline(MIN_DIST, lw=3, linestyle='--', color='black')\\nax1.axvline(SEARCH_ZONE, lw=3, linestyle='--', color='black', label='Search Region')\\nax1.plot(range_bin,np.ones(len(range_bin))*PEAK_THRESHOLD, lw=3, linestyle='dotted', color='gray', label='Detection Threshold')\\n# intialize two line objects (one in each axes)\\nline1, = ax1.plot([], [], lw=4, color='r', label='Filtered Range FFT Spectrum')\\nline2, = ax2.plot([], [], lw=4, color='r', label='Doppler FFT Spectrum')\\nline11, = ax1.plot([], [], 'D', color='black', markersize=15,label='Target location')\\nline21, = ax2.plot([],[], lw=3, linestyle='dashdot',color='limegreen', label='Feature Extractor')\\nline22, = ax2.plot([],[], lw=3, linestyle='dashdot',color='limegreen')\\nline23, = ax2.plot([],[], lw=3, linestyle='dashdot',color='limegreen')\\nline24, = ax2.plot([],[], lw=3, linestyle='dashdot',color='royalblue', label='Feature Extractor')\\nline25, = ax2.plot([],[], lw=3, linestyle='dashdot',color='royalblue')\\nline = [line1, line2, line21,line22,line23,line24,line25, line11]\\nax1.legend(fontsize=20,loc=1)\\nax2.legend(fontsize=20,loc=1)\\n#plt.xlabel(r'meters')\\n#plt.ylabel(r'fft magnitude')\\ntext_axis = ax2.text(.2, -.2, 'Class:'+'No prediction available', style='italic',fontsize=60,\\n        bbox={'facecolor': 'bisque', 'alpha': 0.5, 'pad': 10},visible=True,transform=ax2.transAxes)\\n#\\n# animation function\\ndef animate(i):\\n    line[0].set_data(range_bin, Range_spectrum_history[i])\\n    if predictions[i] == -1:\\n        text_axis.set_text('Class:'+'No prediction available')\\n    elif predictions[i] == 0:\\n        text_axis.set_text('Class:'+classes[predictions[i]] + ' at ' + str(round(range_bin[np.argmax(Range_spectrum_history[i])],2))+ ' m')\\n    elif predictions[i] == 1:\\n        text_axis.set_text('Class:'+classes[predictions[i]] + ' at ' + str(round(range_bin[np.argmax(Range_spectrum_history[i])],2))+ ' m')\\n    elif predictions[i] == 2:\\n        text_axis.set_text('Class:'+classes[predictions[i]] + ' at ' + str(round(range_bin[np.argmax(Range_spectrum_history[i])],2))+ ' m')\\n    if(Target_presence_list[i]>0):\\n        #ax1.set_ylim(0,np.max(Range_spectrum_history[i]*11/10))\\n        ax2.set_ylim(0,np.max(target_doppler_spec[:,i])*11/10)\\n        line[1].set_data(vel_bin,target_doppler_spec[:,i])\\n        line[2].set_data(vel_bin,np.ones(DOPPLER_PAD)*np.max(target_doppler_spec[:,i])/T_Lo_thr)\\n        line[3].set_data(vel_bin,np.ones(DOPPLER_PAD)*np.max(target_doppler_spec[:,i])/T_Mi_thr)\\n        line[4].set_data(vel_bin,np.ones(DOPPLER_PAD)*np.max(target_doppler_spec[:,i])/T_Hi_thr)\\n        line[5].set_data(vel_bin,np.roll(np.array(bi_quadratic)*np.max(target_doppler_spec[:,i]),np.argmax(target_doppler_spec[:,i])-DOPPLER_PAD//2))\\n        line[6].set_data(vel_bin,np.roll(np.array(hor_quadratic)*np.max(target_doppler_spec[:,i]),np.argmax(target_doppler_spec[:,i])-DOPPLER_PAD//2))\\n        line[7].set_data(range_bin[np.argmax(Range_spectrum_history[i])],np.max(Range_spectrum_history[i]))\\n    else:\\n        for i in np.arange(1,8):\\n            line[i].set_data([],[])\\n    return line\\n\\nanim = FuncAnimation(fig, animate, frames=FRAME_NUMBER)\\nWriter = writers['ffmpeg']\\nwriter = Writer(fps=1/(FRAME_REP_INTERVAL), metadata={'artist':'Me'}, bitrate=3600)\\n\\nanim.save('../../videos/'+folder+'_'+actual_filename + '_complete_model' +'.mp4',writer)\\n\""
      ]
     },
     "execution_count": 24,
     "metadata": {},
     "output_type": "execute_result"
    }
   ],
   "source": [
    "'''\n",
    "from matplotlib.animation import FuncAnimation, writers\n",
    "fig,[ax1,ax2] = plt.subplots(2,1,figsize=(25, 25))\n",
    "\n",
    "classes = ['Pedestrian','Cyclist','Car']\n",
    "\n",
    "ax1.title.set_text('Range')\n",
    "ax1.title.set_fontsize(40)\n",
    "ax2.title.set_fontsize(40)\n",
    "ax2.title.set_text('Doppler')\n",
    "\n",
    "ax1.set_xlim(range_bin[0], range_bin[-1])\n",
    "ax1.set_ylim(0,np.max(Range_spectrum_history)*8/10)\n",
    "ax2.set_xlim(vel_bin[0], vel_bin[-1])\n",
    "ax1.tick_params(labelsize=30)\n",
    "ax2.tick_params(labelsize=30)\n",
    "#ax2.set_ylim(0,np.max(target_doppler_spec)*0.5)\n",
    "ax1.axvline(MIN_DIST, lw=3, linestyle='--', color='black')\n",
    "ax1.axvline(SEARCH_ZONE, lw=3, linestyle='--', color='black', label='Search Region')\n",
    "ax1.plot(range_bin,np.ones(len(range_bin))*PEAK_THRESHOLD, lw=3, linestyle='dotted', color='gray', label='Detection Threshold')\n",
    "# intialize two line objects (one in each axes)\n",
    "line1, = ax1.plot([], [], lw=4, color='r', label='Filtered Range FFT Spectrum')\n",
    "line2, = ax2.plot([], [], lw=4, color='r', label='Doppler FFT Spectrum')\n",
    "line11, = ax1.plot([], [], 'D', color='black', markersize=15,label='Target location')\n",
    "line21, = ax2.plot([],[], lw=3, linestyle='dashdot',color='limegreen', label='Feature Extractor')\n",
    "line22, = ax2.plot([],[], lw=3, linestyle='dashdot',color='limegreen')\n",
    "line23, = ax2.plot([],[], lw=3, linestyle='dashdot',color='limegreen')\n",
    "line24, = ax2.plot([],[], lw=3, linestyle='dashdot',color='royalblue', label='Feature Extractor')\n",
    "line25, = ax2.plot([],[], lw=3, linestyle='dashdot',color='royalblue')\n",
    "line = [line1, line2, line21,line22,line23,line24,line25, line11]\n",
    "ax1.legend(fontsize=20,loc=1)\n",
    "ax2.legend(fontsize=20,loc=1)\n",
    "#plt.xlabel(r'meters')\n",
    "#plt.ylabel(r'fft magnitude')\n",
    "text_axis = ax2.text(.2, -.2, 'Class:'+'No prediction available', style='italic',fontsize=60,\n",
    "        bbox={'facecolor': 'bisque', 'alpha': 0.5, 'pad': 10},visible=True,transform=ax2.transAxes)\n",
    "#\n",
    "# animation function\n",
    "def animate(i):\n",
    "    line[0].set_data(range_bin, Range_spectrum_history[i])\n",
    "    if predictions[i] == -1:\n",
    "        text_axis.set_text('Class:'+'No prediction available')\n",
    "    elif predictions[i] == 0:\n",
    "        text_axis.set_text('Class:'+classes[predictions[i]] + ' at ' + str(round(range_bin[np.argmax(Range_spectrum_history[i])],2))+ ' m')\n",
    "    elif predictions[i] == 1:\n",
    "        text_axis.set_text('Class:'+classes[predictions[i]] + ' at ' + str(round(range_bin[np.argmax(Range_spectrum_history[i])],2))+ ' m')\n",
    "    elif predictions[i] == 2:\n",
    "        text_axis.set_text('Class:'+classes[predictions[i]] + ' at ' + str(round(range_bin[np.argmax(Range_spectrum_history[i])],2))+ ' m')\n",
    "    if(Target_presence_list[i]>0):\n",
    "        #ax1.set_ylim(0,np.max(Range_spectrum_history[i]*11/10))\n",
    "        ax2.set_ylim(0,np.max(target_doppler_spec[:,i])*11/10)\n",
    "        line[1].set_data(vel_bin,target_doppler_spec[:,i])\n",
    "        line[2].set_data(vel_bin,np.ones(DOPPLER_PAD)*np.max(target_doppler_spec[:,i])/T_Lo_thr)\n",
    "        line[3].set_data(vel_bin,np.ones(DOPPLER_PAD)*np.max(target_doppler_spec[:,i])/T_Mi_thr)\n",
    "        line[4].set_data(vel_bin,np.ones(DOPPLER_PAD)*np.max(target_doppler_spec[:,i])/T_Hi_thr)\n",
    "        line[5].set_data(vel_bin,np.roll(np.array(bi_quadratic)*np.max(target_doppler_spec[:,i]),np.argmax(target_doppler_spec[:,i])-DOPPLER_PAD//2))\n",
    "        line[6].set_data(vel_bin,np.roll(np.array(hor_quadratic)*np.max(target_doppler_spec[:,i]),np.argmax(target_doppler_spec[:,i])-DOPPLER_PAD//2))\n",
    "        line[7].set_data(range_bin[np.argmax(Range_spectrum_history[i])],np.max(Range_spectrum_history[i]))\n",
    "    else:\n",
    "        for i in np.arange(1,8):\n",
    "            line[i].set_data([],[])\n",
    "    return line\n",
    "\n",
    "anim = FuncAnimation(fig, animate, frames=FRAME_NUMBER)\n",
    "Writer = writers['ffmpeg']\n",
    "writer = Writer(fps=1/(FRAME_REP_INTERVAL), metadata={'artist':'Me'}, bitrate=3600)\n",
    "\n",
    "anim.save('../../videos/'+folder+'_'+actual_filename + '_complete_model' +'.mp4',writer)\n",
    "'''"
   ]
  },
  {
   "cell_type": "code",
   "execution_count": null,
   "metadata": {},
   "outputs": [],
   "source": []
  },
  {
   "cell_type": "code",
   "execution_count": 25,
   "metadata": {},
   "outputs": [
    {
     "name": "stdout",
     "output_type": "stream",
     "text": [
      "256\n"
     ]
    }
   ],
   "source": [
    "print(len(Range_spectrum_history[0]))"
   ]
  },
  {
   "cell_type": "code",
   "execution_count": 26,
   "metadata": {},
   "outputs": [
    {
     "name": "stdout",
     "output_type": "stream",
     "text": [
      "[0, 0, 0, 0, 1, 0, 1, 1, 1, 1, 1, 1, 1, 1, 1, 1, 1, 1, 1, 1, 1, 1, 1, 1, 1, 1, 0, 0, 0, 0, 0, 0, 0, 0, 0, 0, 0, 0, 0, 0, 0, 0, 0, 0, 0, 0, 0, 0, 0, 0, 0, 0, 0, 0, 0, 0, 0, 0, 0, 0, 0, 0, 0, 0, 0, 0, 0, 0, 0, 0, 0, 0, 0, 0, 0, 0, 0, 0, 0, 0, 0, 0, 0, 0, 0, 0, 0, 0, 0, 0, 0, 0, 0, 0, 0, 0, 0, 0, 0, 0, 0, 0, 0, 0, 0, 0, 0, 0, 0, 0, 0, 0, 0, 0, 0, 0, 0, 0, 0, 0, 0, 0, 0, 0, 0, 0, 0, 1, 1, 1, 1, 1, 1, 1, 1, 1, 1, 1, 1, 1, 1, 1, 1, 1, 1, 1, 1, 0, 0, 1, 0, 0, 0, 0, 0, 0, 0, 0, 0, 0, 0, 0, 0, 0, 0, 0, 0, 0, 0, 0, 0, 0, 0, 0, 0, 0, 0, 0, 0, 0, 0, 0, 0, 0, 0, 0, 0, 0, 0, 0, 0, 0, 0, 0, 0, 0, 0, 0, 0, 0, 0, 0, 0, 0, 0, 0, 0, 0, 0, 0, 0, 0, 0, 0, 0, 0, 0, 0, 0, 0, 0, 0, 0, 0, 0, 0, 0, 0, 0, 0, 0, 0, 0, 0, 0, 1, 1, 1, 1, 1, 1, 1, 1, 1, 1, 1, 1, 1, 1, 1, 1, 1, 1, 1, 1, 1, 0, 0, 0, 0, 0, 0, 0, 0, 0, 0, 0, 0, 0, 0, 0, 0, 0, 0, 0, 0, 0, 0, 0, 0, 0, 0, 0, 0, 0, 0, 0, 0, 0, 0, 0, 0, 0, 0, 0, 0, 0, 0, 0, 0]\n"
     ]
    }
   ],
   "source": [
    "print(Target_presence_list)"
   ]
  },
  {
   "cell_type": "code",
   "execution_count": null,
   "metadata": {},
   "outputs": [],
   "source": []
  },
  {
   "cell_type": "code",
   "execution_count": null,
   "metadata": {},
   "outputs": [],
   "source": []
  }
 ],
 "metadata": {
  "kernelspec": {
   "display_name": "Python 3",
   "language": "python",
   "name": "python3"
  },
  "language_info": {
   "codemirror_mode": {
    "name": "ipython",
    "version": 3
   },
   "file_extension": ".py",
   "mimetype": "text/x-python",
   "name": "python",
   "nbconvert_exporter": "python",
   "pygments_lexer": "ipython3",
   "version": "3.8.5"
  }
 },
 "nbformat": 4,
 "nbformat_minor": 4
}
