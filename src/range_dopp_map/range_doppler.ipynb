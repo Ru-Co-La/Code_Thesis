{
 "cells": [
  {
   "cell_type": "code",
   "execution_count": null,
   "metadata": {},
   "outputs": [],
   "source": [
    "def range_doppler_process(frame,range_zero_pad,doppler_zero_pad):\n",
    "    if not isinstance(frame,fr.Frame):\n",
    "        print(\"Argument of algo_process() can only be a Frame instance\")\n",
    "        return\n",
    "    #Fast time Windowing\n",
    "    tmp_frame = frame.chirp\n",
    "    window = np.hamming(frame.sam_x_chir)\n",
    "    tmp_frame = apply_window(tmp_frame, window,'fast')\n",
    "    #Zero-pad & Fast FFT\n",
    "    fast_fft_data_out = fftn(np.pad(tmp_frame,((0,range_zero_pad-frame.sam_x_chir),(0,0),(0,0))), axes=0)/np.sqrt(range_zero_pad)\n",
    "\n",
    "    for antenna in range(frame.num_antennas):\n",
    "        for slow_time_row in range(range_zero_pad):\n",
    "            fast_fft_data_out[slow_time_row,antenna,:] -= np.mean(fast_fft_data_out[slow_time_row,antenna,:])\n",
    "    \n",
    "    #Slow time Windowing\n",
    "    tmp_frame = apply_window(fast_fft_data_out - np.mean(fast_fft_data_out, axis=0), np.blackman(frame.chir_x_fr),'slow')\n",
    "    #Zero-pad & Slow FFT\n",
    "    slow_fft_data_out = fftn(np.pad(tmp_frame,((0,0),(0,0),(0,doppler_zero_pad-frame.chir_x_fr))), axes=2)/np.sqrt(doppler_zero_pad)\n",
    "    #Return range-doppler map\n",
    "    return slow_fft_data_out"
   ]
  },
  {
   "cell_type": "code",
   "execution_count": null,
   "metadata": {},
   "outputs": [],
   "source": [
    "def apply_window(data_in, window, direction):\n",
    "    if direction == 'fast':\n",
    "        return (data_in.T*window).T\n",
    "    if direction == 'slow':\n",
    "        return (data_in*window)"
   ]
  }
 ],
 "metadata": {
  "kernelspec": {
   "display_name": "Python 3",
   "language": "python",
   "name": "python3"
  },
  "language_info": {
   "codemirror_mode": {
    "name": "ipython",
    "version": 3
   },
   "file_extension": ".py",
   "mimetype": "text/x-python",
   "name": "python",
   "nbconvert_exporter": "python",
   "pygments_lexer": "ipython3",
   "version": "3.8.5"
  }
 },
 "nbformat": 4,
 "nbformat_minor": 4
}
